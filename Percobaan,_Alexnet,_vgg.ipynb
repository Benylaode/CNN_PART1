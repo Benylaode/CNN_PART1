{
  "cells": [
    {
      "cell_type": "markdown",
      "metadata": {
        "id": "view-in-github",
        "colab_type": "text"
      },
      "source": [
        "<a href=\"https://colab.research.google.com/github/Benylaode/CNN_PART1/blob/main/Percobaan%2C_Alexnet%2C_vgg.ipynb\" target=\"_parent\"><img src=\"https://colab.research.google.com/assets/colab-badge.svg\" alt=\"Open In Colab\"/></a>"
      ]
    },
    {
      "cell_type": "code",
      "execution_count": 1,
      "metadata": {
        "colab": {
          "base_uri": "https://localhost:8080/"
        },
        "id": "W-NafGPpexbE",
        "outputId": "0b42331f-51ea-4928-f97b-db3a706fb306"
      },
      "outputs": [
        {
          "output_type": "stream",
          "name": "stdout",
          "text": [
            "Collecting datasets\n",
            "  Downloading datasets-3.0.1-py3-none-any.whl.metadata (20 kB)\n",
            "Requirement already satisfied: filelock in /usr/local/lib/python3.10/dist-packages (from datasets) (3.16.1)\n",
            "Requirement already satisfied: numpy>=1.17 in /usr/local/lib/python3.10/dist-packages (from datasets) (1.26.4)\n",
            "Collecting pyarrow>=15.0.0 (from datasets)\n",
            "  Downloading pyarrow-17.0.0-cp310-cp310-manylinux_2_28_x86_64.whl.metadata (3.3 kB)\n",
            "Collecting dill<0.3.9,>=0.3.0 (from datasets)\n",
            "  Downloading dill-0.3.8-py3-none-any.whl.metadata (10 kB)\n",
            "Requirement already satisfied: pandas in /usr/local/lib/python3.10/dist-packages (from datasets) (2.1.4)\n",
            "Requirement already satisfied: requests>=2.32.2 in /usr/local/lib/python3.10/dist-packages (from datasets) (2.32.3)\n",
            "Requirement already satisfied: tqdm>=4.66.3 in /usr/local/lib/python3.10/dist-packages (from datasets) (4.66.5)\n",
            "Collecting xxhash (from datasets)\n",
            "  Downloading xxhash-3.5.0-cp310-cp310-manylinux_2_17_x86_64.manylinux2014_x86_64.whl.metadata (12 kB)\n",
            "Collecting multiprocess (from datasets)\n",
            "  Downloading multiprocess-0.70.17-py310-none-any.whl.metadata (7.2 kB)\n",
            "Requirement already satisfied: fsspec<=2024.6.1,>=2023.1.0 in /usr/local/lib/python3.10/dist-packages (from fsspec[http]<=2024.6.1,>=2023.1.0->datasets) (2024.6.1)\n",
            "Requirement already satisfied: aiohttp in /usr/local/lib/python3.10/dist-packages (from datasets) (3.10.5)\n",
            "Requirement already satisfied: huggingface-hub>=0.22.0 in /usr/local/lib/python3.10/dist-packages (from datasets) (0.24.7)\n",
            "Requirement already satisfied: packaging in /usr/local/lib/python3.10/dist-packages (from datasets) (24.1)\n",
            "Requirement already satisfied: pyyaml>=5.1 in /usr/local/lib/python3.10/dist-packages (from datasets) (6.0.2)\n",
            "Requirement already satisfied: aiohappyeyeballs>=2.3.0 in /usr/local/lib/python3.10/dist-packages (from aiohttp->datasets) (2.4.0)\n",
            "Requirement already satisfied: aiosignal>=1.1.2 in /usr/local/lib/python3.10/dist-packages (from aiohttp->datasets) (1.3.1)\n",
            "Requirement already satisfied: attrs>=17.3.0 in /usr/local/lib/python3.10/dist-packages (from aiohttp->datasets) (24.2.0)\n",
            "Requirement already satisfied: frozenlist>=1.1.1 in /usr/local/lib/python3.10/dist-packages (from aiohttp->datasets) (1.4.1)\n",
            "Requirement already satisfied: multidict<7.0,>=4.5 in /usr/local/lib/python3.10/dist-packages (from aiohttp->datasets) (6.1.0)\n",
            "Requirement already satisfied: yarl<2.0,>=1.0 in /usr/local/lib/python3.10/dist-packages (from aiohttp->datasets) (1.11.1)\n",
            "Requirement already satisfied: async-timeout<5.0,>=4.0 in /usr/local/lib/python3.10/dist-packages (from aiohttp->datasets) (4.0.3)\n",
            "Requirement already satisfied: typing-extensions>=3.7.4.3 in /usr/local/lib/python3.10/dist-packages (from huggingface-hub>=0.22.0->datasets) (4.12.2)\n",
            "Requirement already satisfied: charset-normalizer<4,>=2 in /usr/local/lib/python3.10/dist-packages (from requests>=2.32.2->datasets) (3.3.2)\n",
            "Requirement already satisfied: idna<4,>=2.5 in /usr/local/lib/python3.10/dist-packages (from requests>=2.32.2->datasets) (3.10)\n",
            "Requirement already satisfied: urllib3<3,>=1.21.1 in /usr/local/lib/python3.10/dist-packages (from requests>=2.32.2->datasets) (2.2.3)\n",
            "Requirement already satisfied: certifi>=2017.4.17 in /usr/local/lib/python3.10/dist-packages (from requests>=2.32.2->datasets) (2024.8.30)\n",
            "INFO: pip is looking at multiple versions of multiprocess to determine which version is compatible with other requirements. This could take a while.\n",
            "  Downloading multiprocess-0.70.16-py310-none-any.whl.metadata (7.2 kB)\n",
            "Requirement already satisfied: python-dateutil>=2.8.2 in /usr/local/lib/python3.10/dist-packages (from pandas->datasets) (2.8.2)\n",
            "Requirement already satisfied: pytz>=2020.1 in /usr/local/lib/python3.10/dist-packages (from pandas->datasets) (2024.2)\n",
            "Requirement already satisfied: tzdata>=2022.1 in /usr/local/lib/python3.10/dist-packages (from pandas->datasets) (2024.1)\n",
            "Requirement already satisfied: six>=1.5 in /usr/local/lib/python3.10/dist-packages (from python-dateutil>=2.8.2->pandas->datasets) (1.16.0)\n",
            "Downloading datasets-3.0.1-py3-none-any.whl (471 kB)\n",
            "\u001b[2K   \u001b[90m━━━━━━━━━━━━━━━━━━━━━━━━━━━━━━━━━━━━━━━━\u001b[0m \u001b[32m471.6/471.6 kB\u001b[0m \u001b[31m11.6 MB/s\u001b[0m eta \u001b[36m0:00:00\u001b[0m\n",
            "\u001b[?25hDownloading dill-0.3.8-py3-none-any.whl (116 kB)\n",
            "\u001b[2K   \u001b[90m━━━━━━━━━━━━━━━━━━━━━━━━━━━━━━━━━━━━━━━━\u001b[0m \u001b[32m116.3/116.3 kB\u001b[0m \u001b[31m7.4 MB/s\u001b[0m eta \u001b[36m0:00:00\u001b[0m\n",
            "\u001b[?25hDownloading pyarrow-17.0.0-cp310-cp310-manylinux_2_28_x86_64.whl (39.9 MB)\n",
            "\u001b[2K   \u001b[90m━━━━━━━━━━━━━━━━━━━━━━━━━━━━━━━━━━━━━━━━\u001b[0m \u001b[32m39.9/39.9 MB\u001b[0m \u001b[31m14.9 MB/s\u001b[0m eta \u001b[36m0:00:00\u001b[0m\n",
            "\u001b[?25hDownloading multiprocess-0.70.16-py310-none-any.whl (134 kB)\n",
            "\u001b[2K   \u001b[90m━━━━━━━━━━━━━━━━━━━━━━━━━━━━━━━━━━━━━━━━\u001b[0m \u001b[32m134.8/134.8 kB\u001b[0m \u001b[31m8.7 MB/s\u001b[0m eta \u001b[36m0:00:00\u001b[0m\n",
            "\u001b[?25hDownloading xxhash-3.5.0-cp310-cp310-manylinux_2_17_x86_64.manylinux2014_x86_64.whl (194 kB)\n",
            "\u001b[2K   \u001b[90m━━━━━━━━━━━━━━━━━━━━━━━━━━━━━━━━━━━━━━━━\u001b[0m \u001b[32m194.1/194.1 kB\u001b[0m \u001b[31m8.0 MB/s\u001b[0m eta \u001b[36m0:00:00\u001b[0m\n",
            "\u001b[?25hInstalling collected packages: xxhash, pyarrow, dill, multiprocess, datasets\n",
            "  Attempting uninstall: pyarrow\n",
            "    Found existing installation: pyarrow 14.0.2\n",
            "    Uninstalling pyarrow-14.0.2:\n",
            "      Successfully uninstalled pyarrow-14.0.2\n",
            "\u001b[31mERROR: pip's dependency resolver does not currently take into account all the packages that are installed. This behaviour is the source of the following dependency conflicts.\n",
            "cudf-cu12 24.4.1 requires pyarrow<15.0.0a0,>=14.0.1, but you have pyarrow 17.0.0 which is incompatible.\u001b[0m\u001b[31m\n",
            "\u001b[0mSuccessfully installed datasets-3.0.1 dill-0.3.8 multiprocess-0.70.16 pyarrow-17.0.0 xxhash-3.5.0\n",
            "Requirement already satisfied: tensorflow in /usr/local/lib/python3.10/dist-packages (2.17.0)\n",
            "Requirement already satisfied: absl-py>=1.0.0 in /usr/local/lib/python3.10/dist-packages (from tensorflow) (1.4.0)\n",
            "Requirement already satisfied: astunparse>=1.6.0 in /usr/local/lib/python3.10/dist-packages (from tensorflow) (1.6.3)\n",
            "Requirement already satisfied: flatbuffers>=24.3.25 in /usr/local/lib/python3.10/dist-packages (from tensorflow) (24.3.25)\n",
            "Requirement already satisfied: gast!=0.5.0,!=0.5.1,!=0.5.2,>=0.2.1 in /usr/local/lib/python3.10/dist-packages (from tensorflow) (0.6.0)\n",
            "Requirement already satisfied: google-pasta>=0.1.1 in /usr/local/lib/python3.10/dist-packages (from tensorflow) (0.2.0)\n",
            "Requirement already satisfied: h5py>=3.10.0 in /usr/local/lib/python3.10/dist-packages (from tensorflow) (3.11.0)\n",
            "Requirement already satisfied: libclang>=13.0.0 in /usr/local/lib/python3.10/dist-packages (from tensorflow) (18.1.1)\n",
            "Requirement already satisfied: ml-dtypes<0.5.0,>=0.3.1 in /usr/local/lib/python3.10/dist-packages (from tensorflow) (0.4.1)\n",
            "Requirement already satisfied: opt-einsum>=2.3.2 in /usr/local/lib/python3.10/dist-packages (from tensorflow) (3.3.0)\n",
            "Requirement already satisfied: packaging in /usr/local/lib/python3.10/dist-packages (from tensorflow) (24.1)\n",
            "Requirement already satisfied: protobuf!=4.21.0,!=4.21.1,!=4.21.2,!=4.21.3,!=4.21.4,!=4.21.5,<5.0.0dev,>=3.20.3 in /usr/local/lib/python3.10/dist-packages (from tensorflow) (3.20.3)\n",
            "Requirement already satisfied: requests<3,>=2.21.0 in /usr/local/lib/python3.10/dist-packages (from tensorflow) (2.32.3)\n",
            "Requirement already satisfied: setuptools in /usr/local/lib/python3.10/dist-packages (from tensorflow) (71.0.4)\n",
            "Requirement already satisfied: six>=1.12.0 in /usr/local/lib/python3.10/dist-packages (from tensorflow) (1.16.0)\n",
            "Requirement already satisfied: termcolor>=1.1.0 in /usr/local/lib/python3.10/dist-packages (from tensorflow) (2.4.0)\n",
            "Requirement already satisfied: typing-extensions>=3.6.6 in /usr/local/lib/python3.10/dist-packages (from tensorflow) (4.12.2)\n",
            "Requirement already satisfied: wrapt>=1.11.0 in /usr/local/lib/python3.10/dist-packages (from tensorflow) (1.16.0)\n",
            "Requirement already satisfied: grpcio<2.0,>=1.24.3 in /usr/local/lib/python3.10/dist-packages (from tensorflow) (1.64.1)\n",
            "Requirement already satisfied: tensorboard<2.18,>=2.17 in /usr/local/lib/python3.10/dist-packages (from tensorflow) (2.17.0)\n",
            "Requirement already satisfied: keras>=3.2.0 in /usr/local/lib/python3.10/dist-packages (from tensorflow) (3.4.1)\n",
            "Requirement already satisfied: tensorflow-io-gcs-filesystem>=0.23.1 in /usr/local/lib/python3.10/dist-packages (from tensorflow) (0.37.1)\n",
            "Requirement already satisfied: numpy<2.0.0,>=1.23.5 in /usr/local/lib/python3.10/dist-packages (from tensorflow) (1.26.4)\n",
            "Requirement already satisfied: wheel<1.0,>=0.23.0 in /usr/local/lib/python3.10/dist-packages (from astunparse>=1.6.0->tensorflow) (0.44.0)\n",
            "Requirement already satisfied: rich in /usr/local/lib/python3.10/dist-packages (from keras>=3.2.0->tensorflow) (13.8.1)\n",
            "Requirement already satisfied: namex in /usr/local/lib/python3.10/dist-packages (from keras>=3.2.0->tensorflow) (0.0.8)\n",
            "Requirement already satisfied: optree in /usr/local/lib/python3.10/dist-packages (from keras>=3.2.0->tensorflow) (0.12.1)\n",
            "Requirement already satisfied: charset-normalizer<4,>=2 in /usr/local/lib/python3.10/dist-packages (from requests<3,>=2.21.0->tensorflow) (3.3.2)\n",
            "Requirement already satisfied: idna<4,>=2.5 in /usr/local/lib/python3.10/dist-packages (from requests<3,>=2.21.0->tensorflow) (3.10)\n",
            "Requirement already satisfied: urllib3<3,>=1.21.1 in /usr/local/lib/python3.10/dist-packages (from requests<3,>=2.21.0->tensorflow) (2.2.3)\n",
            "Requirement already satisfied: certifi>=2017.4.17 in /usr/local/lib/python3.10/dist-packages (from requests<3,>=2.21.0->tensorflow) (2024.8.30)\n",
            "Requirement already satisfied: markdown>=2.6.8 in /usr/local/lib/python3.10/dist-packages (from tensorboard<2.18,>=2.17->tensorflow) (3.7)\n",
            "Requirement already satisfied: tensorboard-data-server<0.8.0,>=0.7.0 in /usr/local/lib/python3.10/dist-packages (from tensorboard<2.18,>=2.17->tensorflow) (0.7.2)\n",
            "Requirement already satisfied: werkzeug>=1.0.1 in /usr/local/lib/python3.10/dist-packages (from tensorboard<2.18,>=2.17->tensorflow) (3.0.4)\n",
            "Requirement already satisfied: MarkupSafe>=2.1.1 in /usr/local/lib/python3.10/dist-packages (from werkzeug>=1.0.1->tensorboard<2.18,>=2.17->tensorflow) (2.1.5)\n",
            "Requirement already satisfied: markdown-it-py>=2.2.0 in /usr/local/lib/python3.10/dist-packages (from rich->keras>=3.2.0->tensorflow) (3.0.0)\n",
            "Requirement already satisfied: pygments<3.0.0,>=2.13.0 in /usr/local/lib/python3.10/dist-packages (from rich->keras>=3.2.0->tensorflow) (2.18.0)\n",
            "Requirement already satisfied: mdurl~=0.1 in /usr/local/lib/python3.10/dist-packages (from markdown-it-py>=2.2.0->rich->keras>=3.2.0->tensorflow) (0.1.2)\n",
            "Requirement already satisfied: keras in /usr/local/lib/python3.10/dist-packages (3.4.1)\n",
            "Requirement already satisfied: absl-py in /usr/local/lib/python3.10/dist-packages (from keras) (1.4.0)\n",
            "Requirement already satisfied: numpy in /usr/local/lib/python3.10/dist-packages (from keras) (1.26.4)\n",
            "Requirement already satisfied: rich in /usr/local/lib/python3.10/dist-packages (from keras) (13.8.1)\n",
            "Requirement already satisfied: namex in /usr/local/lib/python3.10/dist-packages (from keras) (0.0.8)\n",
            "Requirement already satisfied: h5py in /usr/local/lib/python3.10/dist-packages (from keras) (3.11.0)\n",
            "Requirement already satisfied: optree in /usr/local/lib/python3.10/dist-packages (from keras) (0.12.1)\n",
            "Requirement already satisfied: ml-dtypes in /usr/local/lib/python3.10/dist-packages (from keras) (0.4.1)\n",
            "Requirement already satisfied: packaging in /usr/local/lib/python3.10/dist-packages (from keras) (24.1)\n",
            "Requirement already satisfied: typing-extensions>=4.5.0 in /usr/local/lib/python3.10/dist-packages (from optree->keras) (4.12.2)\n",
            "Requirement already satisfied: markdown-it-py>=2.2.0 in /usr/local/lib/python3.10/dist-packages (from rich->keras) (3.0.0)\n",
            "Requirement already satisfied: pygments<3.0.0,>=2.13.0 in /usr/local/lib/python3.10/dist-packages (from rich->keras) (2.18.0)\n",
            "Requirement already satisfied: mdurl~=0.1 in /usr/local/lib/python3.10/dist-packages (from markdown-it-py>=2.2.0->rich->keras) (0.1.2)\n"
          ]
        }
      ],
      "source": [
        "!pip install datasets\n",
        "!pip install tensorflow\n",
        "!pip install keras"
      ]
    },
    {
      "cell_type": "code",
      "execution_count": 2,
      "metadata": {
        "id": "msU6t2kgihnI"
      },
      "outputs": [],
      "source": [
        "from tensorflow.keras import models, layers\n",
        "from datasets import load_dataset, DatasetDict, Image, Dataset\n",
        "from keras.models import load_model\n",
        "from tensorflow.keras.utils import to_categorical\n",
        "from tensorflow.keras.preprocessing.image import ImageDataGenerator\n",
        "from PIL import Image, ImageOps\n",
        "import tensorflow as tf\n",
        "import matplotlib.pyplot as plt\n",
        "from datasets import load_dataset\n",
        "from google.colab import drive\n",
        "\n",
        "import numpy as np\n",
        "import random\n",
        "import os\n"
      ]
    },
    {
      "cell_type": "code",
      "execution_count": 3,
      "metadata": {
        "colab": {
          "base_uri": "https://localhost:8080/"
        },
        "id": "aWSNZMhua5A-",
        "outputId": "8b80adc3-ec89-40e3-8f8e-4f79774fd30a"
      },
      "outputs": [
        {
          "output_type": "stream",
          "name": "stdout",
          "text": [
            "Mounted at /content/drive\n",
            "Number of training rows: 2188\n",
            "Number of validation rows: 2188\n"
          ]
        }
      ],
      "source": [
        "# Mount Google Drive\n",
        "drive.mount('/content/drive')\n",
        "\n",
        "# Path dataset dari Google Drive (sesuaikan dengan struktur folder di Google Drive)\n",
        "dataset_dir = '/content/drive/MyDrive/rps-cv-images/'  # Sesuaikan path\n",
        "\n",
        "# Mengambil semua folder dalam dataset\n",
        "class_names = os.listdir(dataset_dir)\n",
        "\n",
        "# Membuat list untuk menyimpan data dan label\n",
        "data = []\n",
        "labels = []\n",
        "\n",
        "# Mengumpulkan data gambar dan labelnya\n",
        "for label in class_names:\n",
        "    label_dir = os.path.join(dataset_dir, label)\n",
        "    if os.path.isdir(label_dir):  # Pastikan ini adalah direktori\n",
        "        for img_file in os.listdir(label_dir):\n",
        "            img_path = os.path.join(label_dir, img_file)\n",
        "            data.append({'image': img_path, 'label': label})\n",
        "\n",
        "# Mengonversi ke DatasetDict\n",
        "ds = DatasetDict({\n",
        "    'train': Dataset.from_list(data),  # Menggunakan semua data untuk train\n",
        "    'validation': Dataset.from_list(data)  # Menggunakan semua data untuk validation (ubah jika perlu)\n",
        "})\n",
        "\n",
        "# Cek jumlah data\n",
        "print(f'Number of training rows: {len(ds[\"train\"])}')\n",
        "print(f'Number of validation rows: {len(ds[\"validation\"])}')\n",
        "\n"
      ]
    },
    {
      "cell_type": "code",
      "execution_count": 4,
      "metadata": {
        "id": "0VdZYvolfLif"
      },
      "outputs": [],
      "source": [
        "from tensorflow.keras.optimizers import Adam\n",
        "class BaseModel:\n",
        "    def __init__(self, input_shape, num_classes):\n",
        "        self.input_shape = input_shape\n",
        "        self.num_classes = num_classes\n",
        "\n",
        "    def build_model(self):\n",
        "        raise NotImplementedError(\"Subclasses should implement this method\")\n",
        "\n",
        "    def compile_model(self, model):\n",
        "        model.compile(optimizer = Adam(learning_rate=0.0002),\n",
        "                      loss='categorical_crossentropy',\n",
        "                      metrics=['accuracy'])\n",
        "\n",
        "    def fit_model(self, model, train_data, train_labels, epochs=10, batch_size=24):\n",
        "        model.fit(train_data, train_labels, epochs=epochs, batch_size=batch_size)\n",
        "\n",
        "class AlexNet(BaseModel):\n",
        "\n",
        "    def build_model(self):\n",
        "        model = models.Sequential()\n",
        "\n",
        "        # 1st Conv Layer\n",
        "        model.add(layers.Conv2D(96, (11, 11), strides=4, activation='relu',\n",
        "                                input_shape=self.input_shape))\n",
        "        model.add(layers.BatchNormalization())\n",
        "        model.add(layers.MaxPooling2D((3, 3), strides=2))\n",
        "\n",
        "        # 2nd Conv Layer\n",
        "        model.add(layers.Conv2D(256, (5, 5), padding='same', activation='relu'))\n",
        "        model.add(layers.BatchNormalization())\n",
        "        model.add(layers.MaxPooling2D((3, 3), strides=2))\n",
        "\n",
        "        # 3rd Conv Layer\n",
        "        model.add(layers.Conv2D(384, (3, 3), padding='same', activation='relu'))\n",
        "\n",
        "        # 4th Conv Layer\n",
        "        model.add(layers.Conv2D(384, (3, 3), padding='same', activation='relu'))\n",
        "\n",
        "        # 5th Conv Layer\n",
        "        model.add(layers.Conv2D(256, (3, 3), padding='same', activation='relu'))\n",
        "        model.add(layers.MaxPooling2D((3, 3), strides=2))\n",
        "\n",
        "        # Flattening\n",
        "        model.add(layers.Flatten())\n",
        "\n",
        "        # Fully Connected Layers\n",
        "        model.add(layers.Dense(4096, activation='relu'))\n",
        "        model.add(layers.Dropout(0.5))\n",
        "        model.add(layers.Dense(4096, activation='relu'))\n",
        "        model.add(layers.Dropout(0.5))\n",
        "        model.add(layers.Dense(self.num_classes, activation='softmax'))\n",
        "\n",
        "        return model\n",
        "\n",
        "class VGG16(BaseModel):\n",
        "\n",
        "    def build_model(self):\n",
        "        model = models.Sequential()\n",
        "\n",
        "        # Block 1\n",
        "        model.add(layers.Conv2D(64, (3, 3), activation='relu', padding='same',\n",
        "                                input_shape=self.input_shape))\n",
        "        model.add(layers.Conv2D(64, (3, 3), activation='relu', padding='same'))\n",
        "        model.add(layers.MaxPooling2D((2, 2), strides=(2, 2)))\n",
        "\n",
        "        # Block 2\n",
        "        model.add(layers.Conv2D(128, (3, 3), activation='relu', padding='same'))\n",
        "        model.add(layers.Conv2D(128, (3, 3), activation='relu', padding='same'))\n",
        "        model.add(layers.MaxPooling2D((2, 2), strides=(2, 2)))\n",
        "\n",
        "        # Block 3\n",
        "        model.add(layers.Conv2D(256, (3, 3), activation='relu', padding='same'))\n",
        "        model.add(layers.Conv2D(256, (3, 3), activation='relu', padding='same'))\n",
        "        model.add(layers.Conv2D(256, (3, 3), activation='relu', padding='same'))\n",
        "        model.add(layers.MaxPooling2D((2, 2), strides=(2, 2)))\n",
        "\n",
        "        # Block 4\n",
        "        model.add(layers.Conv2D(512, (3, 3), activation='relu', padding='same'))\n",
        "        model.add(layers.Conv2D(512, (3, 3), activation='relu', padding='same'))\n",
        "        model.add(layers.Conv2D(512, (3, 3), activation='relu', padding='same'))\n",
        "        model.add(layers.MaxPooling2D((2, 2), strides=(2, 2)))\n",
        "\n",
        "        # Block 5\n",
        "        model.add(layers.Conv2D(512, (3, 3), activation='relu', padding='same'))\n",
        "        model.add(layers.Conv2D(512, (3, 3), activation='relu', padding='same'))\n",
        "        model.add(layers.Conv2D(512, (3, 3), activation='relu', padding='same'))\n",
        "        model.add(layers.MaxPooling2D((2, 2), strides=(2, 2)))\n",
        "\n",
        "        # Flattening\n",
        "        model.add(layers.Flatten())\n",
        "\n",
        "        # Fully Connected Layers\n",
        "        model.add(layers.Dense(4096, activation='relu'))\n",
        "        model.add(layers.Dropout(0.5))\n",
        "        model.add(layers.Dense(4096, activation='relu'))\n",
        "        model.add(layers.Dropout(0.5))\n",
        "        model.add(layers.Dense(self.num_classes, activation='softmax'))\n",
        "\n",
        "        return model\n",
        "\n",
        "import numpy as np\n",
        "\n",
        "def avg_pooling_rgb(image, pool_size=2):\n",
        "    img_height, img_width, num_channels = image.shape\n",
        "    out_height = img_height // pool_size\n",
        "    out_width = img_width // pool_size\n",
        "\n",
        "    pooled_image = np.zeros((out_height, out_width, num_channels))\n",
        "\n",
        "    for c in range(num_channels):\n",
        "        for i in range(0, out_height * pool_size, pool_size):\n",
        "            for j in range(0, out_width * pool_size, pool_size):\n",
        "                pooled_image[i // pool_size, j // pool_size, c] = np.mean(image[i:i + pool_size, j:j + pool_size, c])\n",
        "\n",
        "    return pooled_image\n"
      ]
    },
    {
      "cell_type": "code",
      "execution_count": null,
      "metadata": {
        "id": "shMIFNR-iepv"
      },
      "outputs": [],
      "source": [
        "# def display_sample_images(dataset, n_samples=5):\n",
        "#     plt.figure(figsize=(10, 10))\n",
        "#     for i, sample in enumerate(dataset[\"train\"].shuffle(seed=42).select(range(n_samples))):\n",
        "#         img_path = sample['image']  # Mengambil path gambar\n",
        "#         img = Image.open(img_path).convert('RGB')  # Memuat gambar menggunakan PIL\n",
        "#         img = np.array(img)  # Mengonversi ke numpy array\n",
        "\n",
        "#         plt.subplot(1, n_samples, i + 1)\n",
        "#         plt.imshow(img)\n",
        "#         plt.axis(\"off\")\n",
        "#     plt.show()\n",
        "\n",
        "# display_sample_images(ds)\n",
        "\n",
        "\n",
        "# classes = ds['train'].features['label'].names\n",
        "# num_classes = len(classes)\n",
        "# print(f\"Total jumlah kelas: {num_classes}\")\n",
        "# print(f\"Nama kelas: {classes}\")\n",
        "\n",
        "# label_distribution = ds['train'].features['label']\n",
        "# print(f\"Distribusi gambar per kelas: {label_distribution}\")\n",
        "\n",
        "# a = random.randint(1, len(ds[\"train\"]))\n",
        "\n",
        "# sample_img = np.array(ds['train'][a]['image'])\n",
        "# plt.imshow(sample_img)\n",
        "# plt.axis('off')\n",
        "# plt.show()\n",
        "# print(f\"Ukuran gambar (Tinggi, Lebar, Channel): {sample_img.shape}\")\n",
        "\n",
        "# plt.hist(sample_img.ravel(), bins=256, color='orange', alpha=0.7)\n",
        "# plt.xlabel('Pixel Value')\n",
        "# plt.ylabel('Frequency')\n",
        "# plt.title('Histogram Nilai Piksel untuk Gambar Contoh')\n",
        "# plt.show()\n",
        "\n",
        "# print(f\"Mean nilai piksel: {np.mean(sample_img)}\")\n",
        "# print(f\"Standar deviasi nilai piksel: {np.std(sample_img)}\")"
      ]
    },
    {
      "cell_type": "code",
      "execution_count": 5,
      "metadata": {
        "id": "s-nDyNj3gpJf",
        "colab": {
          "base_uri": "https://localhost:8080/"
        },
        "outputId": "6e920ff8-e678-46e8-d876-85f80528af29"
      },
      "outputs": [
        {
          "output_type": "stream",
          "name": "stdout",
          "text": [
            "Found 1751 images belonging to 3 classes.\n",
            "Found 437 images belonging to 3 classes.\n",
            "Jumlah kelas train: 3\n",
            "Jumlah kelas test: 3\n"
          ]
        }
      ],
      "source": [
        "# Cek isi direktori\n",
        "os.listdir(dataset_dir)\n",
        "\n",
        "train_datagen = ImageDataGenerator(rescale=1./255, validation_split=0.2)\n",
        "\n",
        "train_labels_one_hot = train_datagen.flow_from_directory(\n",
        "    dataset_dir,\n",
        "    target_size=(224, 224),\n",
        "    batch_size=32,\n",
        "    class_mode='categorical',\n",
        "    subset='training'\n",
        ")\n",
        "\n",
        "test_labels_one_hot = train_datagen.flow_from_directory(\n",
        "    dataset_dir,\n",
        "    target_size=(224, 224),\n",
        "    batch_size=32,\n",
        "    class_mode='categorical',\n",
        "    subset='validation'\n",
        ")\n",
        "\n",
        "num_classes_train = len(train_labels_one_hot.class_indices)\n",
        "num_classes_test = len(test_labels_one_hot.class_indices)\n",
        "\n",
        "print(f\"Jumlah kelas train: {num_classes_train}\")\n",
        "print(f\"Jumlah kelas test: {num_classes_test}\")\n"
      ]
    },
    {
      "cell_type": "code",
      "execution_count": null,
      "metadata": {
        "id": "timLLbifDw91"
      },
      "outputs": [],
      "source": [
        "n = sum(1 for i in train_images for a in test_images if np.array_equal(i, a))\n",
        "print(n)\n"
      ]
    },
    {
      "cell_type": "code",
      "source": [
        "input_shape = (224, 224, 3)\n",
        "\n",
        "alexnet = AlexNet(input_shape=input_shape, num_classes=num_classes_train)\n",
        "model1 = alexnet.build_model()\n",
        "alexnet.compile_model(model1)\n",
        "\n",
        "vgg16 = VGG16(input_shape=input_shape, num_classes=num_classes_train)\n",
        "model2 = vgg16.build_model()\n",
        "vgg16.compile_model(model2)\n",
        "\n",
        "history_alexnet = model1.fit(train_labels_one_hot,\n",
        "                             validation_data=test_labels_one_hot,\n",
        "                             epochs=10)\n",
        "\n",
        "history_vggnet = model2.fit(train_labels_one_hot,\n",
        "                            validation_data=test_labels_one_hot,\n",
        "                            epochs=10)"
      ],
      "metadata": {
        "colab": {
          "base_uri": "https://localhost:8080/"
        },
        "id": "AemJH6lXCs9v",
        "outputId": "3f5193b5-1bcc-47e6-d654-b5ceb80195d4"
      },
      "execution_count": 6,
      "outputs": [
        {
          "output_type": "stream",
          "name": "stderr",
          "text": [
            "/usr/local/lib/python3.10/dist-packages/keras/src/layers/convolutional/base_conv.py:107: UserWarning: Do not pass an `input_shape`/`input_dim` argument to a layer. When using Sequential models, prefer using an `Input(shape)` object as the first layer in the model instead.\n",
            "  super().__init__(activity_regularizer=activity_regularizer, **kwargs)\n"
          ]
        },
        {
          "output_type": "stream",
          "name": "stdout",
          "text": [
            "Epoch 1/10\n"
          ]
        },
        {
          "output_type": "stream",
          "name": "stderr",
          "text": [
            "/usr/local/lib/python3.10/dist-packages/keras/src/trainers/data_adapters/py_dataset_adapter.py:121: UserWarning: Your `PyDataset` class should call `super().__init__(**kwargs)` in its constructor. `**kwargs` can include `workers`, `use_multiprocessing`, `max_queue_size`. Do not pass these arguments to `fit()`, as they will be ignored.\n",
            "  self._warn_if_super_not_called()\n"
          ]
        },
        {
          "output_type": "stream",
          "name": "stdout",
          "text": [
            "\u001b[1m55/55\u001b[0m \u001b[32m━━━━━━━━━━━━━━━━━━━━\u001b[0m\u001b[37m\u001b[0m \u001b[1m739s\u001b[0m 12s/step - accuracy: 0.6185 - loss: 1.4801 - val_accuracy: 0.4211 - val_loss: 1.0093\n",
            "Epoch 2/10\n",
            "\u001b[1m55/55\u001b[0m \u001b[32m━━━━━━━━━━━━━━━━━━━━\u001b[0m\u001b[37m\u001b[0m \u001b[1m19s\u001b[0m 222ms/step - accuracy: 0.9722 - loss: 0.0855 - val_accuracy: 0.5789 - val_loss: 1.0418\n",
            "Epoch 3/10\n",
            "\u001b[1m55/55\u001b[0m \u001b[32m━━━━━━━━━━━━━━━━━━━━\u001b[0m\u001b[37m\u001b[0m \u001b[1m13s\u001b[0m 222ms/step - accuracy: 0.9865 - loss: 0.0289 - val_accuracy: 0.5286 - val_loss: 0.7994\n",
            "Epoch 4/10\n",
            "\u001b[1m55/55\u001b[0m \u001b[32m━━━━━━━━━━━━━━━━━━━━\u001b[0m\u001b[37m\u001b[0m \u001b[1m22s\u001b[0m 255ms/step - accuracy: 0.9846 - loss: 0.0409 - val_accuracy: 0.5904 - val_loss: 0.9353\n",
            "Epoch 5/10\n",
            "\u001b[1m55/55\u001b[0m \u001b[32m━━━━━━━━━━━━━━━━━━━━\u001b[0m\u001b[37m\u001b[0m \u001b[1m19s\u001b[0m 227ms/step - accuracy: 0.9919 - loss: 0.0271 - val_accuracy: 0.6819 - val_loss: 0.5464\n",
            "Epoch 6/10\n",
            "\u001b[1m55/55\u001b[0m \u001b[32m━━━━━━━━━━━━━━━━━━━━\u001b[0m\u001b[37m\u001b[0m \u001b[1m13s\u001b[0m 219ms/step - accuracy: 0.9848 - loss: 0.0486 - val_accuracy: 0.9291 - val_loss: 0.2746\n",
            "Epoch 7/10\n",
            "\u001b[1m55/55\u001b[0m \u001b[32m━━━━━━━━━━━━━━━━━━━━\u001b[0m\u001b[37m\u001b[0m \u001b[1m20s\u001b[0m 219ms/step - accuracy: 0.9928 - loss: 0.0244 - val_accuracy: 0.8673 - val_loss: 0.2707\n",
            "Epoch 8/10\n",
            "\u001b[1m55/55\u001b[0m \u001b[32m━━━━━━━━━━━━━━━━━━━━\u001b[0m\u001b[37m\u001b[0m \u001b[1m15s\u001b[0m 254ms/step - accuracy: 0.9915 - loss: 0.0541 - val_accuracy: 0.9908 - val_loss: 0.0218\n",
            "Epoch 9/10\n",
            "\u001b[1m55/55\u001b[0m \u001b[32m━━━━━━━━━━━━━━━━━━━━\u001b[0m\u001b[37m\u001b[0m \u001b[1m13s\u001b[0m 216ms/step - accuracy: 0.9882 - loss: 0.0415 - val_accuracy: 0.9634 - val_loss: 0.0889\n",
            "Epoch 10/10\n",
            "\u001b[1m55/55\u001b[0m \u001b[32m━━━━━━━━━━━━━━━━━━━━\u001b[0m\u001b[37m\u001b[0m \u001b[1m13s\u001b[0m 217ms/step - accuracy: 0.9890 - loss: 0.0353 - val_accuracy: 0.9840 - val_loss: 0.0475\n",
            "Epoch 1/10\n",
            "\u001b[1m55/55\u001b[0m \u001b[32m━━━━━━━━━━━━━━━━━━━━\u001b[0m\u001b[37m\u001b[0m \u001b[1m133s\u001b[0m 2s/step - accuracy: 0.3358 - loss: 1.1120 - val_accuracy: 0.3432 - val_loss: 1.0985\n",
            "Epoch 2/10\n",
            "\u001b[1m55/55\u001b[0m \u001b[32m━━━━━━━━━━━━━━━━━━━━\u001b[0m\u001b[37m\u001b[0m \u001b[1m44s\u001b[0m 534ms/step - accuracy: 0.3428 - loss: 1.0987 - val_accuracy: 0.3432 - val_loss: 1.0984\n",
            "Epoch 3/10\n",
            "\u001b[1m55/55\u001b[0m \u001b[32m━━━━━━━━━━━━━━━━━━━━\u001b[0m\u001b[37m\u001b[0m \u001b[1m30s\u001b[0m 529ms/step - accuracy: 0.3530 - loss: 1.0983 - val_accuracy: 0.3432 - val_loss: 1.0984\n",
            "Epoch 4/10\n",
            "\u001b[1m55/55\u001b[0m \u001b[32m━━━━━━━━━━━━━━━━━━━━\u001b[0m\u001b[37m\u001b[0m \u001b[1m41s\u001b[0m 525ms/step - accuracy: 0.3176 - loss: 1.0990 - val_accuracy: 0.3432 - val_loss: 1.0984\n",
            "Epoch 5/10\n",
            "\u001b[1m55/55\u001b[0m \u001b[32m━━━━━━━━━━━━━━━━━━━━\u001b[0m\u001b[37m\u001b[0m \u001b[1m31s\u001b[0m 536ms/step - accuracy: 0.3453 - loss: 1.0986 - val_accuracy: 0.3432 - val_loss: 1.0984\n",
            "Epoch 6/10\n",
            "\u001b[1m55/55\u001b[0m \u001b[32m━━━━━━━━━━━━━━━━━━━━\u001b[0m\u001b[37m\u001b[0m \u001b[1m31s\u001b[0m 540ms/step - accuracy: 0.3405 - loss: 1.0986 - val_accuracy: 0.3432 - val_loss: 1.0984\n",
            "Epoch 7/10\n",
            "\u001b[1m55/55\u001b[0m \u001b[32m━━━━━━━━━━━━━━━━━━━━\u001b[0m\u001b[37m\u001b[0m \u001b[1m30s\u001b[0m 526ms/step - accuracy: 0.3261 - loss: 1.0980 - val_accuracy: 0.3432 - val_loss: 1.0984\n",
            "Epoch 8/10\n",
            "\u001b[1m55/55\u001b[0m \u001b[32m━━━━━━━━━━━━━━━━━━━━\u001b[0m\u001b[37m\u001b[0m \u001b[1m41s\u001b[0m 529ms/step - accuracy: 0.3458 - loss: 1.0986 - val_accuracy: 0.3432 - val_loss: 1.0984\n",
            "Epoch 9/10\n",
            "\u001b[1m55/55\u001b[0m \u001b[32m━━━━━━━━━━━━━━━━━━━━\u001b[0m\u001b[37m\u001b[0m \u001b[1m41s\u001b[0m 526ms/step - accuracy: 0.3512 - loss: 1.0986 - val_accuracy: 0.3432 - val_loss: 1.0984\n",
            "Epoch 10/10\n",
            "\u001b[1m55/55\u001b[0m \u001b[32m━━━━━━━━━━━━━━━━━━━━\u001b[0m\u001b[37m\u001b[0m \u001b[1m30s\u001b[0m 525ms/step - accuracy: 0.3626 - loss: 1.0979 - val_accuracy: 0.3432 - val_loss: 1.0984\n"
          ]
        }
      ]
    },
    {
      "cell_type": "code",
      "source": [
        "import matplotlib.pyplot as plt\n",
        "\n",
        "def plot_accuracy(history_alexnet, history_vggnet):\n",
        "    acc_alexnet = history_alexnet.history['accuracy']\n",
        "    val_acc_alexnet = history_alexnet.history['val_accuracy']\n",
        "\n",
        "    acc_vggnet = history_vggnet.history['accuracy']\n",
        "    val_acc_vggnet = history_vggnet.history['val_accuracy']\n",
        "\n",
        "    epochs = range(1, len(acc_alexnet) + 1)\n",
        "\n",
        "\n",
        "    plt.plot(epochs, acc_alexnet, 'b', label='Training AlexNet')\n",
        "    plt.plot(epochs, val_acc_alexnet, 'b--', label='Validation AlexNet')\n",
        "\n",
        "    plt.plot(epochs, acc_vggnet, 'r', label='Training VGG16')\n",
        "    plt.plot(epochs, val_acc_vggnet, 'r--', label='Validation VGG16')\n",
        "\n",
        "    plt.title('Training and Validation Accuracy Comparison')\n",
        "    plt.xlabel('Epochs')\n",
        "    plt.ylabel('Accuracy')\n",
        "    plt.legend()\n",
        "\n",
        "    plt.show()\n",
        "\n",
        "plot_accuracy(history_alexnet, history_vggnet)\n"
      ],
      "metadata": {
        "colab": {
          "base_uri": "https://localhost:8080/",
          "height": 472
        },
        "id": "pPQoaF-2DSTe",
        "outputId": "5d59b9e7-1d6c-4615-ff28-39c1996b6f1e"
      },
      "execution_count": 7,
      "outputs": [
        {
          "output_type": "display_data",
          "data": {
            "text/plain": [
              "<Figure size 640x480 with 1 Axes>"
            ],
            "image/png": "[encoded data removed]"
          },
          "metadata": {}
        }
      ]
    }
  ],
  "metadata": {
    "colab": {
      "provenance": [],
      "authorship_tag": "ABX9TyNtLhBNoXN7xviLgJLqtpQC",
      "include_colab_link": true
    },
    "kernelspec": {
      "display_name": "Python 3",
      "name": "python3"
    },
    "language_info": {
      "name": "python"
    }
  },
  "nbformat": 4,
  "nbformat_minor": 0
}